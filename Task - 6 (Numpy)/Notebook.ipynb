{
 "cells": [
  {
   "cell_type": "markdown",
   "metadata": {},
   "source": [
    "### Arrays"
   ]
  },
  {
   "cell_type": "code",
   "execution_count": 2,
   "metadata": {},
   "outputs": [
    {
     "name": "stdout",
     "output_type": "stream",
     "text": [
      "1 4 5 7 5 6 8 \n",
      "[8. 6. 5. 7. 5. 4. 1.]\n"
     ]
    }
   ],
   "source": [
    "import numpy\n",
    "\n",
    "def arrays(arr):\n",
    "    lst=[]\n",
    "    for i in range(len(arr)-1,-1,-1):\n",
    "        lst.append(arr[i])\n",
    "    return(numpy.array(lst,dtype=float))\n",
    "    \n",
    "    \n",
    "arr = input().strip().split(' ')\n",
    "result = arrays(arr)\n",
    "print(result)"
   ]
  },
  {
   "cell_type": "markdown",
   "metadata": {},
   "source": [
    "### Shape and Reshape"
   ]
  },
  {
   "cell_type": "code",
   "execution_count": null,
   "metadata": {},
   "outputs": [],
   "source": [
    "import numpy\n",
    "print (numpy.reshape(numpy.array(input().split(),int),(3,3)))"
   ]
  },
  {
   "cell_type": "markdown",
   "metadata": {},
   "source": [
    "### Transpose and Flatten"
   ]
  },
  {
   "cell_type": "code",
   "execution_count": null,
   "metadata": {},
   "outputs": [],
   "source": [
    "import numpy\n",
    "\n",
    "\n",
    "\n",
    "frst=list(map(int,input().split()))\n",
    "lst=[]\n",
    "for i in range(frst[0]):\n",
    "    \n",
    "    \n",
    "    second=list(map(int,input().split()))\n",
    "    for i in range(frst[1]):\n",
    "        lst.append(second[i])\n",
    "\n",
    "        \n",
    "arr=numpy.array(lst)\n",
    "fin=arr.reshape(frst[0],frst[1])\n",
    "\n",
    "print(fin.transpose())\n",
    "print(fin.flatten())\n"
   ]
  },
  {
   "cell_type": "markdown",
   "metadata": {},
   "source": [
    "### Concatenate"
   ]
  },
  {
   "cell_type": "code",
   "execution_count": null,
   "metadata": {},
   "outputs": [],
   "source": [
    "import numpy\n",
    "\n",
    "info=list(map(int,input().split()))\n",
    "lst=[]\n",
    "lst2=[]\n",
    "\n",
    "for i in range(info[0]):\n",
    "    data=list(map(int,input().split()))  \n",
    "    for i in range(info[2]):\n",
    "        lst.append(data[i])\n",
    "         \n",
    "data1=numpy.array(lst).reshape(info[0],info[2])   \n",
    "for i in range(info[1]):\n",
    "    data=list(map(int,input().split()))\n",
    "    for i in range(info[2]):\n",
    "        lst2.append(data[i])\n",
    "    \n",
    "data2=numpy.array(lst2).reshape(info[1],info[2])\n",
    "    \n",
    "new=numpy.concatenate([data1,data2],axis=0)\n",
    "print(new)\n",
    "    "
   ]
  },
  {
   "cell_type": "markdown",
   "metadata": {},
   "source": [
    "### Zeros and Ones"
   ]
  },
  {
   "cell_type": "code",
   "execution_count": null,
   "metadata": {},
   "outputs": [],
   "source": [
    "import numpy as np\n",
    "\n",
    "info=list(map(int,input().split()))\n",
    "\n",
    "\n",
    "if len(info)==2:\n",
    "    print(np.zeros((info[0],info[1]),dtype=int))\n",
    "    print(np.ones((info[0],info[1]),dtype=int))\n",
    "    \n",
    "elif len(info)==4:\n",
    "    print(np.zeros((info[0],info[1],info[2],info[3]),dtype=int))\n",
    "    print(np.ones((info[0],info[1],info[2],info[3]),dtype=int))\n",
    "\n",
    "else:\n",
    "    print(np.zeros((info[0],info[1],info[2]),dtype=int))\n",
    "    print(np.ones((info[0],info[1],info[2]),dtype=int))"
   ]
  },
  {
   "cell_type": "markdown",
   "metadata": {},
   "source": [
    "### Eye and Identity"
   ]
  },
  {
   "cell_type": "code",
   "execution_count": null,
   "metadata": {},
   "outputs": [],
   "source": [
    "import numpy\n",
    "numpy.set_printoptions(legacy='1.13')\n",
    "\n",
    "info=list(map(int,input().split()))\n",
    "print (numpy.eye(info[0],info[1], k = 0)) "
   ]
  },
  {
   "cell_type": "markdown",
   "metadata": {},
   "source": [
    "### Array Mathematics"
   ]
  },
  {
   "cell_type": "code",
   "execution_count": null,
   "metadata": {},
   "outputs": [],
   "source": [
    "import numpy as np\n",
    "info1,info2 = map(int,input().split())\n",
    "\n",
    "frst=np.zeros((info1,info2),int)\n",
    "sec=np.zeros((info1,info2),int)\n",
    "for i in range(info1):\n",
    "  frst[i]=np.array(input().split(),int)\n",
    "for i in range(info1):\n",
    "  sec[i]=np.array(input().split(),int)  \n",
    "\n",
    "print(frst+sec)\n",
    "print(frst-sec)\n",
    "print(frst*sec)\n",
    "print(np.array(frst/sec,int))\n",
    "print(frst%sec)\n",
    "print(frst**sec)"
   ]
  },
  {
   "cell_type": "markdown",
   "metadata": {},
   "source": [
    "### Floor, Ceil and Rint"
   ]
  },
  {
   "cell_type": "code",
   "execution_count": null,
   "metadata": {},
   "outputs": [],
   "source": [
    "import numpy as np\n",
    "np.set_printoptions(legacy='1.13')\n",
    "data=list(map(float,input().split()))\n",
    "\n",
    "final=np.array(data)\n",
    "\n",
    "print(np.floor(final))\n",
    "print(np.ceil(final))\n",
    "print(np.rint(final))\n"
   ]
  },
  {
   "cell_type": "markdown",
   "metadata": {},
   "source": [
    "### Sum and Prod"
   ]
  },
  {
   "cell_type": "code",
   "execution_count": null,
   "metadata": {},
   "outputs": [],
   "source": [
    "import numpy\n",
    "\n",
    "info=list(map(int,input().split()))\n",
    "multi=1\n",
    "lst=[]\n",
    "for i in range(info[0]):\n",
    "    data=list(map(int,input().split()))\n",
    "    \n",
    "    for j in data:\n",
    "        lst.append(j)\n",
    "        \n",
    "        \n",
    "fin=numpy.array(lst).reshape(info[0],info[1])\n",
    "\n",
    "val=numpy.sum(fin,axis=0)\n",
    "print(numpy.prod(val,axis=0))"
   ]
  },
  {
   "cell_type": "markdown",
   "metadata": {},
   "source": [
    "### Min and Max "
   ]
  },
  {
   "cell_type": "code",
   "execution_count": null,
   "metadata": {},
   "outputs": [],
   "source": [
    "import numpy as np\n",
    "\n",
    "info=list(map(int,input().split()))\n",
    "lst=[]\n",
    "for i in range(info[0]):\n",
    "    data=list(map(int,input().split()))\n",
    "    fin=np.array(data)\n",
    "    \n",
    "    lst.append(np.min(fin))\n",
    "\n",
    "\n",
    "final=np.array(lst)\n",
    "print(np.max(final))\n"
   ]
  },
  {
   "cell_type": "markdown",
   "metadata": {},
   "source": [
    "###  Mean, Var, and Std"
   ]
  },
  {
   "cell_type": "code",
   "execution_count": null,
   "metadata": {},
   "outputs": [],
   "source": [
    "import numpy as np\n",
    "\n",
    "info=list(map(int,input().split()))\n",
    "lst=[]\n",
    "for i in range(info[0]):\n",
    "    data=list(map(int,input().split()))\n",
    "    \n",
    "    for i in range(info[1]):\n",
    "        lst.append(data[i])\n",
    "\n",
    "arr=np.array(lst).reshape(info[0],info[1])\n",
    "\n",
    "print(np.mean(arr,axis=1))\n",
    "print(np.var(arr,axis=0))\n",
    "print(np.std(arr).round(11))"
   ]
  },
  {
   "cell_type": "markdown",
   "metadata": {},
   "source": [
    "### Dot and Cross"
   ]
  },
  {
   "cell_type": "code",
   "execution_count": null,
   "metadata": {},
   "outputs": [],
   "source": [
    "import numpy\n",
    "\n",
    "info=int(input())\n",
    "lst=[]\n",
    "for i in range(info):\n",
    "    data=list(map(int,input().split()))\n",
    "    for i in data:\n",
    "        lst.append(i)\n",
    "        \n",
    "lst2=[]\n",
    "for i in range(info):\n",
    "    data=list(map(int,input().split()))\n",
    "    for i in data:\n",
    "        lst2.append(i)    \n",
    "        \n",
    "        \n",
    "arr1=numpy.array(lst).reshape(info,info)\n",
    "arr2=numpy.array(lst2).reshape(info,info)\n",
    "\n",
    "\n",
    "print(numpy.matmul(arr1,arr2))\n"
   ]
  },
  {
   "cell_type": "markdown",
   "metadata": {},
   "source": [
    "### Inner and Outer"
   ]
  },
  {
   "cell_type": "code",
   "execution_count": null,
   "metadata": {},
   "outputs": [],
   "source": [
    "import numpy as np\n",
    "\n",
    "data1=list(map(int,input().split()))\n",
    "arr1=np.array(data1)\n",
    "\n",
    "data2=list(map(int,input().split()))\n",
    "arr2=np.array(data2)\n",
    "\n",
    "print(np.inner(arr1,arr2))\n",
    "print(np.outer(arr1,arr2))"
   ]
  },
  {
   "cell_type": "markdown",
   "metadata": {},
   "source": [
    "### Polynomials"
   ]
  },
  {
   "cell_type": "code",
   "execution_count": null,
   "metadata": {},
   "outputs": [],
   "source": [
    "import numpy\n",
    "\n",
    "data=list(map(float,input().split()))\n",
    "\n",
    "arr=numpy.array(data)\n",
    "x=int(input())\n",
    "\n",
    "print (numpy.polyval(arr, x))\n"
   ]
  },
  {
   "cell_type": "markdown",
   "metadata": {},
   "source": [
    "### Linear Algebra"
   ]
  },
  {
   "cell_type": "code",
   "execution_count": null,
   "metadata": {},
   "outputs": [],
   "source": [
    "import numpy\n",
    "\n",
    "info=int(input())\n",
    "lst=[]\n",
    "for i in range(info):\n",
    "    data=list(map(float,input().split()))\n",
    "    \n",
    "    for i in data:\n",
    "        lst.append(i)\n",
    "\n",
    "arr=numpy.array(lst).reshape(info,info)\n",
    "\n",
    "print(numpy.linalg.det(arr))"
   ]
  }
 ],
 "metadata": {
  "kernelspec": {
   "display_name": "Python 3",
   "language": "python",
   "name": "python3"
  },
  "language_info": {
   "codemirror_mode": {
    "name": "ipython",
    "version": 3
   },
   "file_extension": ".py",
   "mimetype": "text/x-python",
   "name": "python",
   "nbconvert_exporter": "python",
   "pygments_lexer": "ipython3",
   "version": "3.8.5"
  }
 },
 "nbformat": 4,
 "nbformat_minor": 4
}
