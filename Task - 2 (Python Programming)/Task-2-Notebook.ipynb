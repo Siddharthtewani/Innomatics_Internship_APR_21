{
 "cells": [
  {
   "cell_type": "markdown",
   "metadata": {},
   "source": [
    "### Finding the percentage"
   ]
  },
  {
   "cell_type": "code",
   "execution_count": null,
   "metadata": {},
   "outputs": [],
   "source": [
    "def display(num,dic_marks,name):\n",
    "    sum=0.00\n",
    "    for i in (dic_marks[name]):\n",
    "        sum+=i\n",
    "    print(\"{0:.2f}\".format(sum/3))\n",
    "\n",
    "        \n",
    "\n",
    "if __name__ == '__main__':\n",
    "    n = int(input())\n",
    "    student_marks = {}\n",
    "    for _ in range(n):\n",
    "        name, *line = input().split()\n",
    "        scores = list(map(float, line))\n",
    "        student_marks[name] = scores\n",
    "    query_name = input()\n",
    "    display(n,student_marks,query_name)\n"
   ]
  },
  {
   "cell_type": "markdown",
   "metadata": {},
   "source": [
    "### Introduction to Sets"
   ]
  },
  {
   "cell_type": "code",
   "execution_count": null,
   "metadata": {},
   "outputs": [],
   "source": [
    "def average(array):\n",
    "    sum=0\n",
    "    array_new=set(array)\n",
    "    for i in array_new:\n",
    "        sum+=i\n",
    "    avg=sum/len(array_new)\n",
    "    return(\"{0:.3f}\".format(avg,3))\n",
    "\n",
    "if __name__ == '__main__':\n",
    "    n = int(input())\n",
    "    arr = list(map(int, input().split()))\n",
    "    result = average(arr)\n",
    "    print(result)"
   ]
  },
  {
   "cell_type": "markdown",
   "metadata": {},
   "source": [
    "### Set .add()\n",
    "\n"
   ]
  },
  {
   "cell_type": "code",
   "execution_count": null,
   "metadata": {},
   "outputs": [],
   "source": [
    "x=int(input())\n",
    "s=set()\n",
    "for i in range(x):\n",
    "    country=input()\n",
    "    s.add(country)\n",
    "    \n",
    "print(len(s))"
   ]
  },
  {
   "cell_type": "markdown",
   "metadata": {},
   "source": [
    "### Set .discard(), .remove() & .pop()"
   ]
  },
  {
   "cell_type": "code",
   "execution_count": null,
   "metadata": {},
   "outputs": [],
   "source": [
    "n = int(input())\n",
    "s = set(map(int, input().split()))\n",
    "number_of_op=int(input())\n",
    "for i in range(number_of_op):\n",
    "    commd=input()\n",
    "    msg=commd.split(\" \")\n",
    "    \n",
    "    if (msg[0]==\"pop\"):\n",
    "        s.pop()\n",
    "        \n",
    "    elif (msg[0]==\"remove\"):\n",
    "        s.remove(int(msg[1]))\n",
    "        \n",
    "    elif(msg[0]==\"discard\"):\n",
    "        s.discard(int(msg[1]))\n",
    "        \n",
    "sum=0      \n",
    "for i in s:\n",
    "    sum+=i\n",
    "    \n",
    "print (sum)"
   ]
  },
  {
   "cell_type": "markdown",
   "metadata": {},
   "source": [
    "### Set .union() Operation "
   ]
  },
  {
   "cell_type": "code",
   "execution_count": null,
   "metadata": {},
   "outputs": [],
   "source": [
    "n_eng = input()\n",
    "english = set(map(int, input().split()))\n",
    "n_frnch = input()\n",
    "french = set(map(int, input().split()))\n",
    "print(len(english.union(french)))"
   ]
  },
  {
   "cell_type": "markdown",
   "metadata": {},
   "source": [
    "### Set .intersection() Operation "
   ]
  },
  {
   "cell_type": "code",
   "execution_count": null,
   "metadata": {},
   "outputs": [],
   "source": [
    "n_eng = input()\n",
    "english = set(map(int, input().split()))\n",
    "n_frnch = input()\n",
    "french = set(map(int, input().split()))\n",
    "print(len(english.intersection(french)))"
   ]
  },
  {
   "cell_type": "markdown",
   "metadata": {},
   "source": [
    "### Set .difference() Operation "
   ]
  },
  {
   "cell_type": "code",
   "execution_count": null,
   "metadata": {},
   "outputs": [],
   "source": [
    "n_eng = input()\n",
    "english = set(map(int, input().split()))\n",
    "n_frnch = input()\n",
    "french = set(map(int, input().split()))\n",
    "print(len(english.difference(french)))"
   ]
  },
  {
   "cell_type": "markdown",
   "metadata": {},
   "source": [
    "###  Set .symmetric_difference() Operation"
   ]
  },
  {
   "cell_type": "code",
   "execution_count": null,
   "metadata": {},
   "outputs": [],
   "source": [
    "n_eng = input()\n",
    "english = set(map(int, input().split()))\n",
    "n_frnch = input()\n",
    "french = set(map(int, input().split()))\n",
    "print(len(english.symmetric_difference(french)))"
   ]
  },
  {
   "cell_type": "markdown",
   "metadata": {},
   "source": [
    "### Check Subset "
   ]
  },
  {
   "cell_type": "code",
   "execution_count": null,
   "metadata": {},
   "outputs": [],
   "source": [
    "test_cases=input()\n",
    "\n",
    "for i in range(int(test_cases)):\n",
    "    n_nbr=input()\n",
    "    elements=input().split()\n",
    "    n_nbr_2=input()\n",
    "    elements2=input().split()\n",
    "    \n",
    "     \n",
    "    print(set(elements).issubset(set(elements2)))\n",
    "    "
   ]
  },
  {
   "cell_type": "markdown",
   "metadata": {},
   "source": [
    "### Check SuperSet"
   ]
  },
  {
   "cell_type": "code",
   "execution_count": null,
   "metadata": {},
   "outputs": [],
   "source": [
    "A=input()\n",
    "num=input()\n",
    "res=[]\n",
    "for i in range(int(num)):\n",
    "    other=input()\n",
    "    res.append((set(other).issuperset(set(A))))\n",
    "    \n",
    "if res[0]==True:\n",
    "    for i in res:        \n",
    "        if i==False:\n",
    "            out=False  \n",
    "        else:\n",
    "            out=True  \n",
    "        \n",
    "elif res[0]==False:\n",
    "    for i in res:\n",
    "        if i==True:\n",
    "            out=False  \n",
    "      \n",
    "        else:\n",
    "            out=False  \n",
    "        \n",
    "    \n",
    "print(out)\n"
   ]
  },
  {
   "cell_type": "markdown",
   "metadata": {},
   "source": [
    "### Symmetric Difference"
   ]
  },
  {
   "cell_type": "code",
   "execution_count": null,
   "metadata": {},
   "outputs": [],
   "source": [
    "num1=input()\n",
    "set1=input()\n",
    "num2=input()\n",
    "set2=input()\n",
    "\n",
    "lst1=set1.split(\" \")\n",
    "lst1=list(map(int,lst1))\n",
    "lst2=set2.split(\" \")\n",
    "lst2=list(map(int,lst2))\n",
    "union=set(lst1).union(set(lst2))\n",
    "inter=set(lst1).intersection(set(lst2))\n",
    "\n",
    "final_lst=union-inter\n",
    "final_lst=list(final_lst)\n",
    "final_lst.sort()\n",
    "\n",
    "for i in final_lst:\n",
    "    print(i)"
   ]
  },
  {
   "cell_type": "markdown",
   "metadata": {},
   "source": [
    "### Tuples "
   ]
  },
  {
   "cell_type": "code",
   "execution_count": null,
   "metadata": {},
   "outputs": [],
   "source": [
    "if __name__ == '__main__':\n",
    "    n = int(input())\n",
    "    integer_list = map(int, input().split())\n",
    "    \n",
    "    final_tup=tuple(integer_list)\n",
    "    print(hash(final_tup))"
   ]
  },
  {
   "cell_type": "markdown",
   "metadata": {},
   "source": [
    "### Find the Runner-Up Score"
   ]
  },
  {
   "cell_type": "code",
   "execution_count": null,
   "metadata": {},
   "outputs": [],
   "source": [
    "if __name__ == '__main__':\n",
    "    n = int(input())\n",
    "    arr = list(map(int, input().split()))\n",
    "    \n",
    "    arr.sort()\n",
    "    \n",
    "    max=arr[-1]\n",
    "    for i in range(len(arr)-1,0,-1):\n",
    "        if (max==arr[i]):\n",
    "            pass\n",
    "        \n",
    "        elif(max>arr[i]):\n",
    "            max=arr[i]\n",
    "            break\n",
    "        \n",
    "    print(max)"
   ]
  },
  {
   "cell_type": "markdown",
   "metadata": {},
   "source": [
    "### Set Mutations"
   ]
  },
  {
   "cell_type": "code",
   "execution_count": null,
   "metadata": {},
   "outputs": [],
   "source": [
    "n_1 = int(input())\n",
    "frst = set(map(int, input().split()))\n",
    "num=int(input())\n",
    "\n",
    "\n",
    "for i in range(num):\n",
    "    n_2 = input().split(\" \")\n",
    "    sec = set(map(int, input().split()))\n",
    "    \n",
    "    if n_2[0]==\"intersection_update\":\n",
    "        frst.intersection_update(sec)\n",
    "        \n",
    "    elif n_2[0]==\"update\":   \n",
    "        frst.update(sec) \n",
    "        \n",
    "    elif n_2[0]==\"symmetric_difference_update\":   \n",
    "        frst.symmetric_difference_update(sec) \n",
    "        \n",
    "    elif n_2[0]==\"difference_update \":   \n",
    "        frst.difference_update (sec) \n",
    "    \n",
    "\n",
    "\n",
    "sum=0\n",
    "for i in frst:\n",
    "    sum+=i\n",
    "    \n",
    "print(sum)\n",
    "\n",
    "\n"
   ]
  },
  {
   "cell_type": "markdown",
   "metadata": {},
   "source": [
    "### List Comprehensions"
   ]
  },
  {
   "cell_type": "code",
   "execution_count": null,
   "metadata": {},
   "outputs": [],
   "source": [
    "if __name__ == '__main__':\n",
    "    x = int(input())\n",
    "    y = int(input())\n",
    "    z = int(input())\n",
    "    n = int(input())\n",
    "    \n",
    "    arr=[]\n",
    "    \n",
    "    for i in range(x+1):\n",
    "        for j in range(y+1):\n",
    "            for k in range(z+1):\n",
    "                if(i+j+k!=n):\n",
    "                    arr.append([i,j,k])\n",
    "                    \n",
    "                else:\n",
    "                    pass\n",
    "                    \n",
    "                    \n",
    "    print(arr)"
   ]
  },
  {
   "cell_type": "markdown",
   "metadata": {},
   "source": [
    "### Nested List"
   ]
  },
  {
   "cell_type": "code",
   "execution_count": null,
   "metadata": {},
   "outputs": [],
   "source": [
    "d={} \n",
    "for _ in range(int(input())): \n",
    "    Name=input() \n",
    "    Grade=float(input()) \n",
    "    d[Name]=Grade\n",
    "v=d.values()\n",
    "second=sorted(list(set(v)))[1] \n",
    "second_lowest=[]\n",
    "for key,value in d.items():  \n",
    "    if value==second: \n",
    "        second_lowest.append(key) \n",
    "second_lowest.sort() \n",
    "for name in second_lowest: \n",
    "    print (name)"
   ]
  },
  {
   "cell_type": "markdown",
   "metadata": {},
   "source": [
    "### Lists"
   ]
  },
  {
   "cell_type": "code",
   "execution_count": null,
   "metadata": {},
   "outputs": [],
   "source": [
    "T = int(input().strip())\n",
    "\n",
    "Lst = []\n",
    "for t in range(T):\n",
    "    data = input().strip().split(\" \")\n",
    "    if data[0] == \"append\":\n",
    "        Lst.append(int(data[1]))\n",
    "    elif data[0] == \"insert\":\n",
    "        Lst.insert(int(data[1]), int(data[2]))\n",
    "    elif data[0] == \"remove\":\n",
    "        Lst.remove(int(data[1]))\n",
    "    elif data[0] == \"pop\":\n",
    "        Lst.pop()\n",
    "    elif data[0] == \"sort\":\n",
    "        Lst.sort()\n",
    "    elif data[0] == \"reverse\":\n",
    "        Lst.reverse()\n",
    "    elif data[0] == \"print\":\n",
    "        print(Lst)"
   ]
  },
  {
   "cell_type": "markdown",
   "metadata": {},
   "source": [
    "### The Captain's Room"
   ]
  },
  {
   "cell_type": "code",
   "execution_count": null,
   "metadata": {},
   "outputs": [],
   "source": [
    "grps=int(input())\n",
    "val=list(map(int,input().split()))\n",
    "my_set=set(val)\n",
    "sum_set=0\n",
    "\n",
    "for i in my_set:\n",
    "    sum_set=sum_set+i*5\n",
    "    \n",
    "sum_lst=0      \n",
    "for j in val:\n",
    "    sum_lst+=j\n",
    "    \n",
    "for i in my_set:\n",
    "    if((sum_set-sum_lst)/4==i):\n",
    "        print(i)\n",
    "    else:\n",
    "        pass"
   ]
  }
 ],
 "metadata": {
  "kernelspec": {
   "display_name": "Python 3",
   "language": "python",
   "name": "python3"
  },
  "language_info": {
   "codemirror_mode": {
    "name": "ipython",
    "version": 3
   },
   "file_extension": ".py",
   "mimetype": "text/x-python",
   "name": "python",
   "nbconvert_exporter": "python",
   "pygments_lexer": "ipython3",
   "version": "3.8.5"
  }
 },
 "nbformat": 4,
 "nbformat_minor": 4
}
